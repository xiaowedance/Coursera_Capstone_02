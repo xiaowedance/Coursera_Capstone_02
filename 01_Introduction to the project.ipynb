{
 "cells": [
  {
   "cell_type": "markdown",
   "id": "90b74510",
   "metadata": {},
   "source": [
    "#### Hello!\n",
    "\n",
    "**Welcome to my notebook. This notebook will be mainly used for the capstone project.**<br>\n",
    "**Feel free to have a look and play with it.**"
   ]
  },
  {
   "cell_type": "code",
   "execution_count": 2,
   "id": "1b6ccb63",
   "metadata": {},
   "outputs": [],
   "source": [
    "import numpy as np\n",
    "import pandas as pd"
   ]
  },
  {
   "cell_type": "code",
   "execution_count": 3,
   "id": "cd907933",
   "metadata": {},
   "outputs": [
    {
     "name": "stdout",
     "output_type": "stream",
     "text": [
      "Hello Capstone Project Course!\n"
     ]
    }
   ],
   "source": [
    "print('Hello Capstone Project Course!')"
   ]
  }
 ],
 "metadata": {
  "kernelspec": {
   "display_name": "Python 3",
   "language": "python",
   "name": "python3"
  },
  "language_info": {
   "codemirror_mode": {
    "name": "ipython",
    "version": 3
   },
   "file_extension": ".py",
   "mimetype": "text/x-python",
   "name": "python",
   "nbconvert_exporter": "python",
   "pygments_lexer": "ipython3",
   "version": "3.8.8"
  }
 },
 "nbformat": 4,
 "nbformat_minor": 5
}
